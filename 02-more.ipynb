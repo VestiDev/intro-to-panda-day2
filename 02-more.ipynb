{
 "cells": [
  {
   "cell_type": "code",
   "execution_count": 1,
   "id": "41f1ca53-327e-46d3-8344-bd805bc174c2",
   "metadata": {},
   "outputs": [],
   "source": [
    "import pandas as pd"
   ]
  },
  {
   "cell_type": "code",
   "execution_count": 3,
   "id": "5c4e0e34-d46c-48e7-a8f5-76bc11a48130",
   "metadata": {},
   "outputs": [],
   "source": [
    "s = pd.Series([\"banana\", 42])"
   ]
  },
  {
   "cell_type": "code",
   "execution_count": 4,
   "id": "f05906df-3d3f-4a8e-8586-16d4323346ad",
   "metadata": {},
   "outputs": [
    {
     "data": {
      "text/plain": [
       "0    banana\n",
       "1        42\n",
       "dtype: object"
      ]
     },
     "execution_count": 4,
     "metadata": {},
     "output_type": "execute_result"
    }
   ],
   "source": [
    "s"
   ]
  },
  {
   "cell_type": "code",
   "execution_count": 7,
   "id": "9eaf5d3a-05a2-4009-b38c-8fcfc79c40e7",
   "metadata": {},
   "outputs": [
    {
     "data": {
      "text/plain": [
       "person        Wes\n",
       "who       Creator\n",
       "dtype: object"
      ]
     },
     "execution_count": 7,
     "metadata": {},
     "output_type": "execute_result"
    }
   ],
   "source": [
    "s = pd.Series([\"Wes\", \"Creator\"], index=[\"person\", \"who\"])\n",
    "s"
   ]
  },
  {
   "cell_type": "code",
   "execution_count": 9,
   "id": "59ddeaff-5547-4466-880b-1ffa8bb5c360",
   "metadata": {},
   "outputs": [
    {
     "data": {
      "text/plain": [
       "'Wes'"
      ]
     },
     "execution_count": 9,
     "metadata": {},
     "output_type": "execute_result"
    }
   ],
   "source": [
    "s.loc[\"person\"]"
   ]
  },
  {
   "cell_type": "code",
   "execution_count": 10,
   "id": "9f504f36-5f60-4a23-9a31-767556203a8b",
   "metadata": {},
   "outputs": [
    {
     "data": {
      "text/plain": [
       "'Wes'"
      ]
     },
     "execution_count": 10,
     "metadata": {},
     "output_type": "execute_result"
    }
   ],
   "source": [
    "s.iloc[0]"
   ]
  },
  {
   "cell_type": "code",
   "execution_count": null,
   "id": "ee22aa76-45be-4a26-ae5c-5ad300db94e2",
   "metadata": {},
   "outputs": [],
   "source": []
  }
 ],
 "metadata": {
  "kernelspec": {
   "display_name": "Python 3 (ipykernel)",
   "language": "python",
   "name": "python3"
  },
  "language_info": {
   "codemirror_mode": {
    "name": "ipython",
    "version": 3
   },
   "file_extension": ".py",
   "mimetype": "text/x-python",
   "name": "python",
   "nbconvert_exporter": "python",
   "pygments_lexer": "ipython3",
   "version": "3.9.7"
  }
 },
 "nbformat": 4,
 "nbformat_minor": 5
}
